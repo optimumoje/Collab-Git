{
  "nbformat": 4,
  "nbformat_minor": 0,
  "metadata": {
    "colab": {
      "provenance": []
    },
    "kernelspec": {
      "name": "python3",
      "display_name": "Python 3"
    },
    "language_info": {
      "name": "python"
    }
  },
  "cells": [
    {
      "cell_type": "code",
      "execution_count": 1,
      "metadata": {
        "colab": {
          "base_uri": "https://localhost:8080/"
        },
        "id": "EOIqzzSzyV39",
        "outputId": "fae478ca-c3ec-4e59-fa6a-4eb9fb35517c"
      },
      "outputs": [
        {
          "output_type": "stream",
          "name": "stdout",
          "text": [
            "Enter the first number: 2\n",
            "Enter the second number: 3\n",
            "Addition: 2.0 + 3.0 = 5.0\n",
            "Subtraction: 2.0 - 3.0 = -1.0\n"
          ]
        }
      ],
      "source": [
        "# Function to perform addition and subtraction\n",
        "def add_and_subtract(num1, num2):\n",
        "    addition = num1 + num2\n",
        "    subtraction = num1 - num2\n",
        "    return addition, subtraction\n",
        "\n",
        "# Main program\n",
        "if __name__ == \"__main__\":\n",
        "    # Get user input\n",
        "    try:\n",
        "        number1 = float(input(\"Enter the first number: \"))\n",
        "        number2 = float(input(\"Enter the second number: \"))\n",
        "\n",
        "        # Perform calculations\n",
        "        result_add, result_subtract = add_and_subtract(number1, number2)\n",
        "\n",
        "        # Display results\n",
        "        print(f\"Addition: {number1} + {number2} = {result_add}\")\n",
        "        print(f\"Subtraction: {number1} - {number2} = {result_subtract}\")\n",
        "\n",
        "    except ValueError:\n",
        "        print(\"Please enter valid numbers.\")\n"
      ]
    },
    {
      "cell_type": "code",
      "source": [],
      "metadata": {
        "id": "yRqoZB0kynwR"
      },
      "execution_count": null,
      "outputs": []
    }
  ]
}